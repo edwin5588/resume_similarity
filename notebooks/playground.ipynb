{
 "cells": [
  {
   "cell_type": "code",
   "execution_count": 1,
   "metadata": {},
   "outputs": [],
   "source": [
    "import os\n",
    "import PyPDF2\n"
   ]
  },
  {
   "cell_type": "code",
   "execution_count": 20,
   "metadata": {},
   "outputs": [],
   "source": [
    "## functions\n",
    "\n",
    "def pdf_opener(location):\n",
    "    \"\"\"\n",
    "    location --> file location of PDF\n",
    "\n",
    "\n",
    "    opens a PDF file from a location. Decompiles pdf to readable information.\n",
    "    returns a list of information\n",
    "    item1 --> pages in the pdf\n",
    "    item2 --> separate page objects\n",
    "    item3 --> separate texts of pages\n",
    "    \"\"\"\n",
    "\n",
    "    ret = [[], [], []]\n",
    "    pdfFileObj = open(location, 'rb')\n",
    "    pdf = PyPDF2.PdfFileReader(pdfFileObj)\n",
    "    number_pages = pdf.numPages\n",
    "    for page in range(0, number_pages):\n",
    "        pg_obj = pdf.getPage(page)\n",
    "        ret[0].append(page)\n",
    "        ret[1].append(pg_obj)\n",
    "        ret[2].append(pg_obj.extractText())\n",
    "    return ret\n",
    "\n",
    "def pdf_explorer(loc, single = False):\n",
    "    \"\"\"\n",
    "    from a folder location,\n",
    "    list all PDFs,\n",
    "    return a list of extracted PDFs\n",
    "\n",
    "\n",
    "    loc --> path to folder containing pdfs\n",
    "    single --> single PDF or not\n",
    "    returns --> list of lists of extracted PDFs\n",
    "    \"\"\"\n",
    "    if single == True:\n",
    "        return pdf_opener(folcer_loc)\n",
    "    else:\n",
    "        paths = [os.path.join(loc, pdf) for pdf in os.listdir(loc)]\n",
    "        ret = []\n",
    "        for pdf in paths:\n",
    "            if \".pdf\" in pdf:\n",
    "                ret.append(pdf_opener(pdf))\n",
    "        return ret\n",
    "        \n",
    "        "
   ]
  },
  {
   "cell_type": "code",
   "execution_count": 21,
   "metadata": {},
   "outputs": [],
   "source": [
    "data = os.path.join(\"data\")\n",
    "pdfs = pdf_explorer(data)"
   ]
  },
  {
   "cell_type": "code",
   "execution_count": 29,
   "metadata": {},
   "outputs": [
    {
     "data": {
      "text/plain": [
       "['MATH187BTheMathematicsofCryptographySpring2021\\nPARTICIPATIONACTIVITY5\\nDUEJUNE4,2021AT9PMPDT\\nInstructions.\\nTheparticipationactivitymustbemustbesubmittedthrough\\nGradescope\\nby\\n9pmPDT\\nontheduedate,andtherearenoexceptionstothisrule.\\nYouwillbeabletolookatyour(scanned)workbeforesubmittingit.Pleaseensurethat\\nyoursubmissionis\\nlegible\\n.\\nFillouttheCAPEsurveyforthisclassandsubmitthatyoudidso.A\\nscreenshot(aspdf)will\\n1\\n']"
      ]
     },
     "execution_count": 29,
     "metadata": {},
     "output_type": "execute_result"
    }
   ],
   "source": [
    "pdfs[4][2]"
   ]
  },
  {
   "cell_type": "code",
   "execution_count": null,
   "metadata": {},
   "outputs": [],
   "source": []
  }
 ],
 "metadata": {
  "kernelspec": {
   "display_name": "Python 3",
   "language": "python",
   "name": "python3"
  },
  "language_info": {
   "codemirror_mode": {
    "name": "ipython",
    "version": 3
   },
   "file_extension": ".py",
   "mimetype": "text/x-python",
   "name": "python",
   "nbconvert_exporter": "python",
   "pygments_lexer": "ipython3",
   "version": "3.7.6"
  }
 },
 "nbformat": 4,
 "nbformat_minor": 4
}
